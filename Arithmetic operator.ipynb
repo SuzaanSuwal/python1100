{
 "cells": [
  {
   "cell_type": "markdown",
   "id": "1c56d8db-7406-4687-8a0c-a9dd3e312b12",
   "metadata": {},
   "source": [
    "# Arithmetic operator\n",
    "\n",
    "* Addition (+)\n",
    "* Subtraction (-)\n",
    "* Multiplication (*)\n",
    "* Division (/)\n",
    "* Modulus (%)\n",
    "* Exponentiation (**)\n",
    "* Floor division (//)"
   ]
  },
  {
   "cell_type": "code",
   "execution_count": 1,
   "id": "6a1c3c12-23a9-40dc-af04-a3565b82c26f",
   "metadata": {},
   "outputs": [
    {
     "data": {
      "text/plain": [
       "8"
      ]
     },
     "execution_count": 1,
     "metadata": {},
     "output_type": "execute_result"
    }
   ],
   "source": [
    "3+5"
   ]
  },
  {
   "cell_type": "code",
   "execution_count": 2,
   "id": "8ca42a95-8738-47e2-af81-90e01d911e29",
   "metadata": {},
   "outputs": [
    {
     "name": "stdout",
     "output_type": "stream",
     "text": [
      "8\n"
     ]
    }
   ],
   "source": [
    "print(3+5)"
   ]
  },
  {
   "cell_type": "code",
   "execution_count": 4,
   "id": "dd74dcb8-f907-4a4c-83c7-7fdcecfae5ee",
   "metadata": {},
   "outputs": [
    {
     "name": "stdout",
     "output_type": "stream",
     "text": [
      "7\n"
     ]
    }
   ],
   "source": [
    "a=3\n",
    "b=4\n",
    "c=a+b\n",
    "print(c)"
   ]
  },
  {
   "cell_type": "code",
   "execution_count": 5,
   "id": "3f801cbd-fc1b-48bd-995f-cf652b660268",
   "metadata": {},
   "outputs": [
    {
     "data": {
      "text/plain": [
       "3"
      ]
     },
     "execution_count": 5,
     "metadata": {},
     "output_type": "execute_result"
    }
   ],
   "source": [
    "# modulus\n",
    "19%4"
   ]
  },
  {
   "cell_type": "code",
   "execution_count": 6,
   "id": "ea7aa684-96a2-4e9e-af89-bb58eead2a92",
   "metadata": {},
   "outputs": [],
   "source": [
    "# modulus operator le remainder dinxa"
   ]
  },
  {
   "cell_type": "code",
   "execution_count": 7,
   "id": "7d94ffd2-0447-4816-adc7-32d23bde86e8",
   "metadata": {},
   "outputs": [
    {
     "data": {
      "text/plain": [
       "1"
      ]
     },
     "execution_count": 7,
     "metadata": {},
     "output_type": "execute_result"
    }
   ],
   "source": [
    "23%2"
   ]
  },
  {
   "cell_type": "code",
   "execution_count": 8,
   "id": "40e3d6da-38d3-4d85-9379-bb309be8c80c",
   "metadata": {},
   "outputs": [
    {
     "data": {
      "text/plain": [
       "7.5"
      ]
     },
     "execution_count": 8,
     "metadata": {},
     "output_type": "execute_result"
    }
   ],
   "source": [
    "# floor division\n",
    "15/2"
   ]
  },
  {
   "cell_type": "code",
   "execution_count": 9,
   "id": "f87d266b-5456-47ec-899a-42111e0bdc89",
   "metadata": {},
   "outputs": [
    {
     "data": {
      "text/plain": [
       "7"
      ]
     },
     "execution_count": 9,
     "metadata": {},
     "output_type": "execute_result"
    }
   ],
   "source": [
    "15//2"
   ]
  },
  {
   "cell_type": "code",
   "execution_count": 10,
   "id": "dd620745-0ddc-4041-b908-8674a870323b",
   "metadata": {},
   "outputs": [],
   "source": [
    "# exponentiation"
   ]
  },
  {
   "cell_type": "code",
   "execution_count": 11,
   "id": "3c3216f2-f76c-419e-b83e-8b733c804661",
   "metadata": {},
   "outputs": [
    {
     "data": {
      "text/plain": [
       "6"
      ]
     },
     "execution_count": 11,
     "metadata": {},
     "output_type": "execute_result"
    }
   ],
   "source": [
    "2*3"
   ]
  },
  {
   "cell_type": "code",
   "execution_count": 12,
   "id": "c6f6e8fd-aa95-4097-9c1b-551201b22da8",
   "metadata": {},
   "outputs": [
    {
     "data": {
      "text/plain": [
       "8"
      ]
     },
     "execution_count": 12,
     "metadata": {},
     "output_type": "execute_result"
    }
   ],
   "source": [
    "2**3"
   ]
  },
  {
   "cell_type": "code",
   "execution_count": 13,
   "id": "076baa2c-a954-4e2a-947d-248f36c46758",
   "metadata": {},
   "outputs": [],
   "source": [
    "# exponentiation operator le to the power dinxa\n"
   ]
  },
  {
   "cell_type": "code",
   "execution_count": 14,
   "id": "49af4919-e170-4052-8c79-7ad33f30884c",
   "metadata": {},
   "outputs": [
    {
     "data": {
      "text/plain": [
       "625"
      ]
     },
     "execution_count": 14,
     "metadata": {},
     "output_type": "execute_result"
    }
   ],
   "source": [
    "a=5\n",
    "a**4 #5 ko power 4"
   ]
  },
  {
   "cell_type": "markdown",
   "id": "fa558c37-d2a8-45a0-a837-9b0430929eaf",
   "metadata": {},
   "source": [
    "# Find the volume of a sphere with radius 5"
   ]
  },
  {
   "cell_type": "code",
   "execution_count": 19,
   "id": "64cec729-f320-4315-b2aa-0ec2d5ed67ab",
   "metadata": {},
   "outputs": [
    {
     "name": "stdout",
     "output_type": "stream",
     "text": [
      "523.3333333333334\n"
     ]
    }
   ],
   "source": [
    "pi=3.14\n",
    "r=5\n",
    "sphere= (4/3)*pi*r**3\n",
    "print(sphere)"
   ]
  },
  {
   "cell_type": "code",
   "execution_count": 20,
   "id": "1f951f76-21fc-445a-b084-2411c28f47b2",
   "metadata": {},
   "outputs": [
    {
     "ename": "NameError",
     "evalue": "name 'math' is not defined",
     "output_type": "error",
     "traceback": [
      "\u001b[1;31m---------------------------------------------------------------------------\u001b[0m",
      "\u001b[1;31mNameError\u001b[0m                                 Traceback (most recent call last)",
      "Cell \u001b[1;32mIn[20], line 1\u001b[0m\n\u001b[1;32m----> 1\u001b[0m \u001b[43mmath\u001b[49m\u001b[38;5;241m.\u001b[39mpi\n",
      "\u001b[1;31mNameError\u001b[0m: name 'math' is not defined"
     ]
    }
   ],
   "source": [
    "math.pi"
   ]
  },
  {
   "cell_type": "code",
   "execution_count": 21,
   "id": "c8166ca5-1fea-4262-8655-c96ca6fe0686",
   "metadata": {},
   "outputs": [],
   "source": [
    "import math"
   ]
  },
  {
   "cell_type": "code",
   "execution_count": 22,
   "id": "3e89475e-3cde-4409-a236-2910d4d5bd11",
   "metadata": {},
   "outputs": [
    {
     "data": {
      "text/plain": [
       "3.141592653589793"
      ]
     },
     "execution_count": 22,
     "metadata": {},
     "output_type": "execute_result"
    }
   ],
   "source": [
    "import math\n",
    "math.pi"
   ]
  },
  {
   "cell_type": "code",
   "execution_count": 23,
   "id": "5683627d-e45c-456d-b475-ed8533fecca9",
   "metadata": {},
   "outputs": [
    {
     "data": {
      "text/plain": [
       "78.53981633974483"
      ]
     },
     "execution_count": 23,
     "metadata": {},
     "output_type": "execute_result"
    }
   ],
   "source": [
    "r = 5\n",
    "area = math.pi * r**2\n",
    "area"
   ]
  },
  {
   "cell_type": "markdown",
   "id": "dbcb2bd8-b8ff-4676-9837-547440eccceb",
   "metadata": {},
   "source": [
    "operator precedence"
   ]
  },
  {
   "cell_type": "code",
   "execution_count": 24,
   "id": "bc30d45f-cec2-4beb-8465-3f0a51f0c5fa",
   "metadata": {},
   "outputs": [
    {
     "data": {
      "text/plain": [
       "24"
      ]
     },
     "execution_count": 24,
     "metadata": {},
     "output_type": "execute_result"
    }
   ],
   "source": [
    "3 * 2 **3"
   ]
  },
  {
   "cell_type": "code",
   "execution_count": 25,
   "id": "3aa3207a-147a-4fc3-8634-8fd1bc7fab0e",
   "metadata": {},
   "outputs": [
    {
     "data": {
      "text/plain": [
       "24"
      ]
     },
     "execution_count": 25,
     "metadata": {},
     "output_type": "execute_result"
    }
   ],
   "source": [
    "3 * 8"
   ]
  },
  {
   "cell_type": "code",
   "execution_count": 26,
   "id": "e41c27b6-9bcf-42c6-aa65-e435275652ae",
   "metadata": {},
   "outputs": [],
   "source": [
    "# multiply vanda higher precedence exp operator ko hunxa"
   ]
  },
  {
   "cell_type": "code",
   "execution_count": 28,
   "id": "052635ea-b6e3-48ad-bc8c-fa2da3f4cfdd",
   "metadata": {},
   "outputs": [
    {
     "data": {
      "text/plain": [
       "1.5"
      ]
     },
     "execution_count": 28,
     "metadata": {},
     "output_type": "execute_result"
    }
   ],
   "source": [
    "1/2 * 3"
   ]
  },
  {
   "cell_type": "code",
   "execution_count": 29,
   "id": "1d8e3d15-a2c9-4009-87b7-927cba122e4d",
   "metadata": {},
   "outputs": [
    {
     "data": {
      "text/plain": [
       "1.5"
      ]
     },
     "execution_count": 29,
     "metadata": {},
     "output_type": "execute_result"
    }
   ],
   "source": [
    "3 *1/2"
   ]
  },
  {
   "cell_type": "code",
   "execution_count": 30,
   "id": "300cb164-4560-4035-a427-688fd0ec6694",
   "metadata": {},
   "outputs": [],
   "source": [
    "#division ra multiplication ko same precendence"
   ]
  },
  {
   "cell_type": "code",
   "execution_count": null,
   "id": "4355cfa1-0d8d-4069-90ee-030bcd179f28",
   "metadata": {},
   "outputs": [],
   "source": []
  },
  {
   "cell_type": "code",
   "execution_count": null,
   "id": "b9f01fb8-2cf9-439a-8a86-32cbcd85c581",
   "metadata": {},
   "outputs": [],
   "source": []
  }
 ],
 "metadata": {
  "kernelspec": {
   "display_name": "Python 3 (ipykernel)",
   "language": "python",
   "name": "python3"
  },
  "language_info": {
   "codemirror_mode": {
    "name": "ipython",
    "version": 3
   },
   "file_extension": ".py",
   "mimetype": "text/x-python",
   "name": "python",
   "nbconvert_exporter": "python",
   "pygments_lexer": "ipython3",
   "version": "3.11.5"
  }
 },
 "nbformat": 4,
 "nbformat_minor": 5
}
