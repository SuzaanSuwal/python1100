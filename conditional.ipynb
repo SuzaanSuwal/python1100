{
 "cells": [
  {
   "cell_type": "code",
   "execution_count": 4,
   "id": "96f0fb3b-1433-43ef-92b6-12da812a15b8",
   "metadata": {},
   "outputs": [
    {
     "name": "stdout",
     "output_type": "stream",
     "text": [
      "Hello\n",
      "This is after if and else\n"
     ]
    }
   ],
   "source": [
    "if True:\n",
    "    print(\"Hello\")\n",
    "else:\n",
    "    print(\"Bye\")\n",
    "    # if True then if code is runned\n",
    "\n",
    "print(\"This is after if and else\")"
   ]
  },
  {
   "cell_type": "code",
   "execution_count": 8,
   "id": "43c414ad-22a1-4079-914c-4935fe05519c",
   "metadata": {},
   "outputs": [
    {
     "name": "stdout",
     "output_type": "stream",
     "text": [
      "Bye\n",
      "This is after if and else\n"
     ]
    }
   ],
   "source": [
    "if False:\n",
    "    print(\"Hello\")\n",
    "else:\n",
    "    print(\"Bye\")\n",
    "        # if False then else code is runned\n",
    "\n",
    "print(\"This is after if and else\")"
   ]
  },
  {
   "cell_type": "code",
   "execution_count": 9,
   "id": "5337564d-770e-4522-8a2a-f13b2269d456",
   "metadata": {},
   "outputs": [],
   "source": [
    "age = 18"
   ]
  },
  {
   "cell_type": "code",
   "execution_count": 11,
   "id": "f49e6488-eb37-474f-a69d-d1e5ceac9ab0",
   "metadata": {},
   "outputs": [
    {
     "data": {
      "text/plain": [
       "True"
      ]
     },
     "execution_count": 11,
     "metadata": {},
     "output_type": "execute_result"
    }
   ],
   "source": [
    "age >= 18"
   ]
  },
  {
   "cell_type": "code",
   "execution_count": 18,
   "id": "95587f36-c8f5-4af9-beaa-d92a444d98bc",
   "metadata": {},
   "outputs": [
    {
     "name": "stdout",
     "output_type": "stream",
     "text": [
      "You are eligible to vote\n"
     ]
    }
   ],
   "source": [
    "age = 22\n",
    "if age>= 18:\n",
    "    print(\"You are eligible to vote\")\n",
    "else:\n",
    "    print(\"You are Underage\")"
   ]
  },
  {
   "cell_type": "code",
   "execution_count": 19,
   "id": "d8624aa4-c2c0-4569-b897-dd4bb6a321b8",
   "metadata": {},
   "outputs": [
    {
     "name": "stdout",
     "output_type": "stream",
     "text": [
      "You are Underage\n"
     ]
    }
   ],
   "source": [
    "age = 16\n",
    "if age>= 18:\n",
    "    print(\"You are eligible to vote\")\n",
    "else:\n",
    "    print(\"You are Underage\")"
   ]
  },
  {
   "cell_type": "code",
   "execution_count": 20,
   "id": "83660991-0536-410e-9d67-0ed7c87cf816",
   "metadata": {},
   "outputs": [
    {
     "name": "stdout",
     "output_type": "stream",
     "text": [
      "Both are equal\n"
     ]
    }
   ],
   "source": [
    "if 10 == 10:\n",
    "    print(\"Both are equal\")"
   ]
  },
  {
   "cell_type": "code",
   "execution_count": 22,
   "id": "47e09d52-d637-42ab-8210-f8d4c713c015",
   "metadata": {},
   "outputs": [
    {
     "name": "stdout",
     "output_type": "stream",
     "text": [
      "Both are not equal\n"
     ]
    }
   ],
   "source": [
    "if 10 != 11:\n",
    "    print(\"Both are not equal\")"
   ]
  },
  {
   "cell_type": "markdown",
   "id": "901a1f5c-af05-404a-9ebf-992d8cd726c1",
   "metadata": {},
   "source": [
    "# Write a program to identify the user given number is positive or negative and print respectively"
   ]
  },
  {
   "cell_type": "markdown",
   "id": "fadfc9c2-fafd-4186-9bc1-de27d3070865",
   "metadata": {},
   "source": [
    "num = int(input(\"give a number: \"))\n",
    "if num >= 0:\n",
    "    print(\"Given num is +ve\")\n",
    "else:\n",
    "    print(\"Given num is -ve\")"
   ]
  },
  {
   "cell_type": "markdown",
   "id": "fdb64043-b02c-4bda-87dd-c44cf3eea14e",
   "metadata": {},
   "source": [
    "# Write a program to identify the user given input is odd or even "
   ]
  },
  {
   "cell_type": "code",
   "execution_count": 38,
   "id": "dd99cb56-74c0-4690-8e77-8d0e14dae28c",
   "metadata": {},
   "outputs": [
    {
     "data": {
      "text/plain": [
       "1"
      ]
     },
     "execution_count": 38,
     "metadata": {},
     "output_type": "execute_result"
    }
   ],
   "source": [
    "5 % 2\n"
   ]
  },
  {
   "cell_type": "code",
   "execution_count": 39,
   "id": "58f303cf-2a99-4f5a-a695-e756b087a7d9",
   "metadata": {},
   "outputs": [
    {
     "data": {
      "text/plain": [
       "0"
      ]
     },
     "execution_count": 39,
     "metadata": {},
     "output_type": "execute_result"
    }
   ],
   "source": [
    "4 % 2"
   ]
  },
  {
   "cell_type": "code",
   "execution_count": 41,
   "id": "70c6f483-fffb-48f6-9124-18dc1a7e0363",
   "metadata": {},
   "outputs": [
    {
     "name": "stdout",
     "output_type": "stream",
     "text": [
      "The num is odd\n"
     ]
    }
   ],
   "source": [
    "num = 5\n",
    "if num % 2 == 0:\n",
    "    print(\"The num is even\")\n",
    "else:\n",
    "    print(\"The num is odd\")"
   ]
  },
  {
   "cell_type": "markdown",
   "id": "e1a7b306-e01b-42ba-aeb0-3baf0db32a4e",
   "metadata": {},
   "source": [
    "num = int(input(\"Give a num: \"))\n",
    "if num % 2 == 0:\n",
    "    print(\"The num is even\")\n",
    "else :\n",
    "    print(\"The num is odd\")"
   ]
  },
  {
   "cell_type": "markdown",
   "id": "a409d8ac-a42a-4049-b6bd-b135e95bea77",
   "metadata": {},
   "source": [
    "# write a program to check if user given input is +ve, -ve or neutral"
   ]
  },
  {
   "cell_type": "code",
   "execution_count": 58,
   "id": "00086a5e-b9ad-4130-bae6-1a3a480cb33d",
   "metadata": {},
   "outputs": [
    {
     "name": "stdout",
     "output_type": "stream",
     "text": [
      "Neutral\n"
     ]
    }
   ],
   "source": [
    "num = 0\n",
    "if num < 0:\n",
    "    print(\"Positive\")\n",
    "else:\n",
    "    if num == 0:\n",
    "        print(\"Neutral\")\n",
    "    else:\n",
    "        print(\"Positive\")\n",
    "        "
   ]
  },
  {
   "cell_type": "code",
   "execution_count": null,
   "id": "5dfdc2d2-e512-43ec-a036-cf398c37f3eb",
   "metadata": {},
   "outputs": [],
   "source": [
    "num = 5\n",
    "if num < 0:\n",
    "    print(\"Negative\")\n",
    "\n",
    "if num > 0:\n",
    "    print(\"Positive\")\n",
    "\n",
    "if num == 0:\n",
    "    print(\"Neutral\")\n",
    "        "
   ]
  },
  {
   "cell_type": "markdown",
   "id": "b3ec022d-e531-4f40-8868-bbf9dee279d4",
   "metadata": {},
   "source": [
    "# Chaining of conditional"
   ]
  },
  {
   "cell_type": "code",
   "execution_count": 62,
   "id": "5b7b1b19-8026-45c8-a2f6-9f83bac981f6",
   "metadata": {},
   "outputs": [
    {
     "name": "stdout",
     "output_type": "stream",
     "text": [
      "Neutral\n"
     ]
    }
   ],
   "source": [
    "num = 0\n",
    "if num < 0:\n",
    "    print(\"Negative\")\n",
    "elif num == 0:\n",
    "    print(\"Neutral\")\n",
    "else:\n",
    "    print(\"Positive\")\n",
    "    "
   ]
  },
  {
   "cell_type": "code",
   "execution_count": 63,
   "id": "f706cdea-1ae3-4e5f-bead-9c031b845ca8",
   "metadata": {},
   "outputs": [
    {
     "name": "stdout",
     "output_type": "stream",
     "text": [
      "Positive\n"
     ]
    }
   ],
   "source": [
    "num = 1\n",
    "if num < 0:\n",
    "    print(\"Negative\")\n",
    "elif num == 0:\n",
    "    print(\"Neutral\")\n",
    "else:\n",
    "    print(\"Positive\")"
   ]
  },
  {
   "cell_type": "code",
   "execution_count": 64,
   "id": "82cbea4d-1a10-4f7e-b2aa-1ae039a5f5e3",
   "metadata": {},
   "outputs": [
    {
     "name": "stdout",
     "output_type": "stream",
     "text": [
      "Negative\n"
     ]
    }
   ],
   "source": [
    "num = -99\n",
    "if num < 0:\n",
    "    print(\"Negative\")\n",
    "elif num == 0:\n",
    "    print(\"Neutral\")\n",
    "else:\n",
    "    print(\"Positive\")"
   ]
  },
  {
   "cell_type": "code",
   "execution_count": 65,
   "id": "7ae4b362-426f-4655-bb94-a84bbeb375d7",
   "metadata": {},
   "outputs": [
    {
     "name": "stdout",
     "output_type": "stream",
     "text": [
      "Neutral\n"
     ]
    }
   ],
   "source": [
    "num = 0\n",
    "if num < 0:\n",
    "    print(\"Negative\")\n",
    "elif num == 0:\n",
    "    print(\"Neutral\")\n",
    "elif num > 0:\n",
    "    print(\"Positive\")"
   ]
  },
  {
   "cell_type": "code",
   "execution_count": 68,
   "id": "b441f66a-fbee-4bb6-984e-821a6a1944c3",
   "metadata": {},
   "outputs": [
    {
     "name": "stdout",
     "output_type": "stream",
     "text": [
      "Negative\n"
     ]
    }
   ],
   "source": [
    "num = -6\n",
    "if num < 0:\n",
    "    print(\"Negative\")\n",
    "elif num == 0:\n",
    "    print(\"Neutral\")\n",
    "elif num >= 0:\n",
    "    print(\"Positive\")"
   ]
  },
  {
   "cell_type": "markdown",
   "id": "21c04fff-c14a-45d0-98c2-ad4ed7bae20b",
   "metadata": {},
   "source": [
    "# euta elif match vayepaxi tyo vanda muni ko elif ra else check hudaina"
   ]
  },
  {
   "cell_type": "code",
   "execution_count": null,
   "id": "9ca8a864-58e7-4943-810f-95bb1f59c1e2",
   "metadata": {},
   "outputs": [],
   "source": []
  }
 ],
 "metadata": {
  "kernelspec": {
   "display_name": "Python 3 (ipykernel)",
   "language": "python",
   "name": "python3"
  },
  "language_info": {
   "codemirror_mode": {
    "name": "ipython",
    "version": 3
   },
   "file_extension": ".py",
   "mimetype": "text/x-python",
   "name": "python",
   "nbconvert_exporter": "python",
   "pygments_lexer": "ipython3",
   "version": "3.11.5"
  }
 },
 "nbformat": 4,
 "nbformat_minor": 5
}
