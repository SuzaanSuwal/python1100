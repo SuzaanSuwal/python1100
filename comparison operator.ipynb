{
 "cells": [
  {
   "cell_type": "code",
   "execution_count": 1,
   "id": "5768010e-f752-48cb-b2b6-c66b9c10f91a",
   "metadata": {},
   "outputs": [],
   "source": [
    "num1 = 50\n",
    "num2 = 50\n"
   ]
  },
  {
   "cell_type": "code",
   "execution_count": 2,
   "id": "a3716005-a7dd-4b66-8537-7e04c7582907",
   "metadata": {},
   "outputs": [
    {
     "data": {
      "text/plain": [
       "True"
      ]
     },
     "execution_count": 2,
     "metadata": {},
     "output_type": "execute_result"
    }
   ],
   "source": [
    "num1 == num2 # == means equals to ; = means assignment operator"
   ]
  },
  {
   "cell_type": "code",
   "execution_count": 3,
   "id": "8292a3e2-903c-4cdd-b403-7c75ec25faa4",
   "metadata": {},
   "outputs": [
    {
     "data": {
      "text/plain": [
       "False"
      ]
     },
     "execution_count": 3,
     "metadata": {},
     "output_type": "execute_result"
    }
   ],
   "source": [
    "5 == 3"
   ]
  },
  {
   "cell_type": "code",
   "execution_count": 5,
   "id": "01e0af06-4c85-4b06-976e-f6486bbe6c13",
   "metadata": {},
   "outputs": [
    {
     "data": {
      "text/plain": [
       "True"
      ]
     },
     "execution_count": 5,
     "metadata": {},
     "output_type": "execute_result"
    }
   ],
   "source": [
    "5 != 3 # != means not eqauls to"
   ]
  },
  {
   "cell_type": "code",
   "execution_count": 6,
   "id": "ed683b23-57f2-4234-8f56-329d67795c50",
   "metadata": {},
   "outputs": [],
   "source": [
    "# five is not equals to 3"
   ]
  },
  {
   "cell_type": "code",
   "execution_count": 10,
   "id": "a4776527-e2c2-4c95-9e46-9d17b7a62726",
   "metadata": {},
   "outputs": [
    {
     "data": {
      "text/plain": [
       "True"
      ]
     },
     "execution_count": 10,
     "metadata": {},
     "output_type": "execute_result"
    }
   ],
   "source": [
    "2 > 1 \n",
    "# 2 is greater than 1"
   ]
  },
  {
   "cell_type": "code",
   "execution_count": 11,
   "id": "7f58305a-f238-46ec-9b5c-cd18f80a2811",
   "metadata": {},
   "outputs": [
    {
     "data": {
      "text/plain": [
       "True"
      ]
     },
     "execution_count": 11,
     "metadata": {},
     "output_type": "execute_result"
    }
   ],
   "source": [
    "2 < 9 \n",
    "# 2 is less than 9"
   ]
  },
  {
   "cell_type": "code",
   "execution_count": 12,
   "id": "8f3d942b-321c-43a4-a981-3528ec9a35d5",
   "metadata": {},
   "outputs": [
    {
     "data": {
      "text/plain": [
       "False"
      ]
     },
     "execution_count": 12,
     "metadata": {},
     "output_type": "execute_result"
    }
   ],
   "source": [
    "55< 22 # 55 is less than 22?"
   ]
  },
  {
   "cell_type": "code",
   "execution_count": 15,
   "id": "b91c9417-d598-488e-bae4-4d5e30bfb10f",
   "metadata": {},
   "outputs": [
    {
     "data": {
      "text/plain": [
       "True"
      ]
     },
     "execution_count": 15,
     "metadata": {},
     "output_type": "execute_result"
    }
   ],
   "source": [
    "2 <= 2 \n",
    "# 2 is less than or equals to 2?"
   ]
  },
  {
   "cell_type": "code",
   "execution_count": 16,
   "id": "7f4f4ca9-2c8a-440c-8ed1-87be581fc752",
   "metadata": {},
   "outputs": [
    {
     "data": {
      "text/plain": [
       "True"
      ]
     },
     "execution_count": 16,
     "metadata": {},
     "output_type": "execute_result"
    }
   ],
   "source": [
    "5 >= 3 \n",
    "# 5 is greater or equals to 3?"
   ]
  },
  {
   "cell_type": "code",
   "execution_count": null,
   "id": "e95f2689-61a4-4a3f-a7a4-229261ff491d",
   "metadata": {},
   "outputs": [],
   "source": []
  }
 ],
 "metadata": {
  "kernelspec": {
   "display_name": "Python 3 (ipykernel)",
   "language": "python",
   "name": "python3"
  },
  "language_info": {
   "codemirror_mode": {
    "name": "ipython",
    "version": 3
   },
   "file_extension": ".py",
   "mimetype": "text/x-python",
   "name": "python",
   "nbconvert_exporter": "python",
   "pygments_lexer": "ipython3",
   "version": "3.11.5"
  }
 },
 "nbformat": 4,
 "nbformat_minor": 5
}
