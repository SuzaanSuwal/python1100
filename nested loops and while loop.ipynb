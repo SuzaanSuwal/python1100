{
 "cells": [
  {
   "cell_type": "code",
   "execution_count": 1,
   "metadata": {},
   "outputs": [
    {
     "name": "stdout",
     "output_type": "stream",
     "text": [
      "----------\n",
      "i = 0\n",
      "----------\n",
      "j = 0\n",
      "j = 1\n",
      "j = 2\n",
      "----------\n",
      "i = 1\n",
      "----------\n",
      "j = 0\n",
      "j = 1\n",
      "j = 2\n",
      "----------\n",
      "i = 2\n",
      "----------\n",
      "j = 0\n",
      "j = 1\n",
      "j = 2\n",
      "----------\n",
      "i = 3\n",
      "----------\n",
      "j = 0\n",
      "j = 1\n",
      "j = 2\n",
      "----------\n",
      "i = 4\n",
      "----------\n",
      "j = 0\n",
      "j = 1\n",
      "j = 2\n"
     ]
    }
   ],
   "source": [
    "for i in range(5):\n",
    "    print(\"----------\")\n",
    "    print(f\"i = {i}\")\n",
    "    print(\"----------\")\n",
    "    for j in range(3):\n",
    "        print(f\"j = {j}\")"
   ]
  },
  {
   "cell_type": "code",
   "execution_count": 2,
   "metadata": {},
   "outputs": [],
   "source": [
    "data = [ [4, 5], [1, 2, 4], [43, 12, 7, 65, 98] ]"
   ]
  },
  {
   "cell_type": "code",
   "execution_count": 5,
   "metadata": {},
   "outputs": [
    {
     "name": "stdout",
     "output_type": "stream",
     "text": [
      "[4, 5]\n",
      "[1, 2, 4]\n",
      "[43, 12, 7, 65, 98]\n"
     ]
    }
   ],
   "source": [
    "output = []\n",
    "for item in data:\n",
    "    print(item)"
   ]
  },
  {
   "cell_type": "code",
   "execution_count": 11,
   "metadata": {},
   "outputs": [
    {
     "data": {
      "text/plain": [
       "9"
      ]
     },
     "execution_count": 11,
     "metadata": {},
     "output_type": "execute_result"
    }
   ],
   "source": [
    "item = [4, 5]\n",
    "total = 0\n",
    "for i in item:\n",
    "    total = total + i\n",
    "total"
   ]
  },
  {
   "cell_type": "code",
   "execution_count": 15,
   "metadata": {},
   "outputs": [
    {
     "data": {
      "text/plain": [
       "[9, 7, 225]"
      ]
     },
     "execution_count": 15,
     "metadata": {},
     "output_type": "execute_result"
    }
   ],
   "source": [
    "# data = [ [4, 5], [1, 2, 4], [43, 12, 7, 65, 98] ]\n",
    "output = []\n",
    "for item in data:\n",
    "    total = 0\n",
    "    for i in item:\n",
    "        total = total +i\n",
    "    output.append(total)\n",
    "output"
   ]
  },
  {
   "cell_type": "markdown",
   "metadata": {},
   "source": [
    "# while loops"
   ]
  },
  {
   "cell_type": "code",
   "execution_count": null,
   "metadata": {},
   "outputs": [],
   "source": [
    "data = [7, 9, 6]\n"
   ]
  },
  {
   "cell_type": "markdown",
   "metadata": {},
   "source": [
    "```python\n",
    "while True:\n",
    "    #body of while\n",
    "```"
   ]
  },
  {
   "cell_type": "code",
   "execution_count": 17,
   "metadata": {},
   "outputs": [
    {
     "data": {
      "text/plain": [
       "22"
      ]
     },
     "execution_count": 17,
     "metadata": {},
     "output_type": "execute_result"
    }
   ],
   "source": [
    "data = [7, 9, 6]\n",
    "total = 0\n",
    "index = 0\n",
    "\n",
    "while index < len(data):\n",
    "    item = data[index]\n",
    "    total = total + item\n",
    "    index = index + 1\n",
    "total"
   ]
  },
  {
   "cell_type": "code",
   "execution_count": 23,
   "metadata": {},
   "outputs": [
    {
     "data": {
      "text/plain": [
       "3.6666666666666665"
      ]
     },
     "execution_count": 23,
     "metadata": {},
     "output_type": "execute_result"
    }
   ],
   "source": [
    "data = [7, 9, 6]\n",
    "total = 0\n",
    "index = 0\n",
    "\n",
    "while index < len(data):\n",
    "    item = data[index]\n",
    "    total = total + item\n",
    "    mean = total / item\n",
    "    index = index + 1\n",
    "mean"
   ]
  },
  {
   "cell_type": "code",
   "execution_count": null,
   "metadata": {},
   "outputs": [],
   "source": []
  }
 ],
 "metadata": {
  "kernelspec": {
   "display_name": "Python 3",
   "language": "python",
   "name": "python3"
  },
  "language_info": {
   "codemirror_mode": {
    "name": "ipython",
    "version": 3
   },
   "file_extension": ".py",
   "mimetype": "text/x-python",
   "name": "python",
   "nbconvert_exporter": "python",
   "pygments_lexer": "ipython3",
   "version": "3.11.5"
  }
 },
 "nbformat": 4,
 "nbformat_minor": 2
}
