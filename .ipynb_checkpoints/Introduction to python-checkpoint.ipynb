{
 "cells": [
  {
   "cell_type": "code",
   "execution_count": 1,
   "id": "6f7f156c-f4c6-4baf-91d0-ed64eaca59a0",
   "metadata": {},
   "outputs": [
    {
     "name": "stdout",
     "output_type": "stream",
     "text": [
      "5\n"
     ]
    }
   ],
   "source": [
    "print(5)"
   ]
  },
  {
   "cell_type": "code",
   "execution_count": 2,
   "id": "efa374c2-3d17-491d-9bd1-2d9e7b5750f6",
   "metadata": {},
   "outputs": [
    {
     "name": "stdout",
     "output_type": "stream",
     "text": [
      "14\n"
     ]
    }
   ],
   "source": [
    "print(8+6)"
   ]
  },
  {
   "cell_type": "code",
   "execution_count": 4,
   "id": "6c980144-1abe-4fd0-9924-426eab9ae0b2",
   "metadata": {},
   "outputs": [
    {
     "name": "stdout",
     "output_type": "stream",
     "text": [
      "4\n"
     ]
    }
   ],
   "source": [
    "print(9-5)"
   ]
  },
  {
   "cell_type": "code",
   "execution_count": 5,
   "id": "5bed8dd1-3467-4601-a03f-759be333c4cb",
   "metadata": {},
   "outputs": [
    {
     "name": "stdout",
     "output_type": "stream",
     "text": [
      "hello\n"
     ]
    }
   ],
   "source": [
    "print(\"hello\")"
   ]
  },
  {
   "cell_type": "code",
   "execution_count": 6,
   "id": "16056986-d9b8-436a-b531-b8daf8130148",
   "metadata": {},
   "outputs": [
    {
     "name": "stdout",
     "output_type": "stream",
     "text": [
      "My name is Asur\n"
     ]
    }
   ],
   "source": [
    "print(\"My name is Asur\")"
   ]
  },
  {
   "cell_type": "code",
   "execution_count": 7,
   "id": "b892bc44-6770-4a88-ae9a-75a4ce379695",
   "metadata": {},
   "outputs": [
    {
     "name": "stdout",
     "output_type": "stream",
     "text": [
      "72\n"
     ]
    }
   ],
   "source": [
    "print(8*9)"
   ]
  },
  {
   "cell_type": "code",
   "execution_count": 10,
   "id": "1b19ac07-31a3-4af2-86cd-156a44a5aaa8",
   "metadata": {},
   "outputs": [
    {
     "name": "stdout",
     "output_type": "stream",
     "text": [
      "19.5\n"
     ]
    }
   ],
   "source": [
    "print(78/4)"
   ]
  },
  {
   "cell_type": "code",
   "execution_count": null,
   "id": "49ca0f09-5f62-4313-ba8f-c7c26c595950",
   "metadata": {},
   "outputs": [],
   "source": []
  }
 ],
 "metadata": {
  "kernelspec": {
   "display_name": "Python 3 (ipykernel)",
   "language": "python",
   "name": "python3"
  },
  "language_info": {
   "codemirror_mode": {
    "name": "ipython",
    "version": 3
   },
   "file_extension": ".py",
   "mimetype": "text/x-python",
   "name": "python",
   "nbconvert_exporter": "python",
   "pygments_lexer": "ipython3",
   "version": "3.11.5"
  }
 },
 "nbformat": 4,
 "nbformat_minor": 5
}
