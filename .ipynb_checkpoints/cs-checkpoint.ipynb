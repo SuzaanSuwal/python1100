{
 "cells": [
  {
   "cell_type": "code",
   "execution_count": 1,
   "metadata": {},
   "outputs": [
    {
     "name": "stdout",
     "output_type": "stream",
     "text": [
      "The letter = b is consonant\n",
      "The letter = r is consonant\n",
      "The letter = o is vowel\n",
      "The letter = a is vowel\n",
      "The letter = d is consonant\n",
      "The letter = w is consonant\n",
      "The letter = a is vowel\n",
      "The letter = y is consonant\n"
     ]
    }
   ],
   "source": [
    "a = \"broadway\"\n",
    "for index in range(0, len(a)):\n",
    "    letter = a[index]\n",
    "    if letter == \"a\" or letter == \"e\" or letter == \"i\" or letter == \"o\" or letter == \"u\":\n",
    "        print(f\"The letter = {letter} is vowel\")\n",
    "    else:\n",
    "        print(f\"The letter = {letter} is consonant\")"
   ]
  },
  {
   "cell_type": "code",
   "execution_count": 3,
   "metadata": {},
   "outputs": [
    {
     "name": "stdout",
     "output_type": "stream",
     "text": [
      "The letter = B is consonant\n",
      "The letter = r is consonant\n",
      "The letter = o is vowel\n",
      "The letter = a is vowel\n",
      "The letter = d is consonant\n",
      "The letter = w is consonant\n",
      "The letter = a is vowel\n",
      "The letter = y is consonant\n",
      "The letter =   is consonant\n",
      "The letter = I is consonant\n",
      "The letter = n is consonant\n",
      "The letter = f is consonant\n",
      "The letter = o is vowel\n",
      "The letter = s is consonant\n",
      "The letter = y is consonant\n",
      "The letter = s is consonant\n"
     ]
    }
   ],
   "source": [
    "b = \"Broadway Infosys\"\n",
    "for index in range(0, len(b)):\n",
    "    letter = b[index]\n",
    "    if letter == \"a\" or letter == 'e' or letter == \"i\" or letter == \"o\" or letter == \"u\":\n",
    "        print(f\"The letter = {letter} is vowel\")\n",
    "    else:\n",
    "        print(f\"The letter = {letter} is consonant\")"
   ]
  },
  {
   "cell_type": "code",
   "execution_count": 22,
   "metadata": {},
   "outputs": [
    {
     "name": "stdout",
     "output_type": "stream",
     "text": [
      "vowel = 3\n",
      "consonant = 5\n"
     ]
    }
   ],
   "source": [
    "text = \"broadway\"\n",
    "vowel = 0\n",
    "consonant = 0\n",
    "\n",
    "for index in range(len(text)):\n",
    "    letter = text[index]\n",
    "    if letter in \"aeiou\":\n",
    "        vowel = vowel + 1\n",
    "    else:\n",
    "        consonant = consonant + 1\n",
    "print(f\"vowel = {vowel}\")\n",
    "print(f\"consonant = {consonant}\")"
   ]
  },
  {
   "cell_type": "markdown",
   "metadata": {},
   "source": [
    "# Membership operator"
   ]
  },
  {
   "cell_type": "code",
   "execution_count": 12,
   "metadata": {},
   "outputs": [
    {
     "data": {
      "text/plain": [
       "True"
      ]
     },
     "execution_count": 12,
     "metadata": {},
     "output_type": "execute_result"
    }
   ],
   "source": [
    "s = \"Hello\"\n",
    "\"e\"in s"
   ]
  },
  {
   "cell_type": "code",
   "execution_count": 6,
   "metadata": {},
   "outputs": [
    {
     "data": {
      "text/plain": [
       "False"
      ]
     },
     "execution_count": 6,
     "metadata": {},
     "output_type": "execute_result"
    }
   ],
   "source": [
    "\"z\" in s"
   ]
  },
  {
   "cell_type": "code",
   "execution_count": 7,
   "metadata": {},
   "outputs": [
    {
     "data": {
      "text/plain": [
       "True"
      ]
     },
     "execution_count": 7,
     "metadata": {},
     "output_type": "execute_result"
    }
   ],
   "source": [
    "\"el\" in s"
   ]
  },
  {
   "cell_type": "code",
   "execution_count": 8,
   "metadata": {},
   "outputs": [
    {
     "data": {
      "text/plain": [
       "False"
      ]
     },
     "execution_count": 8,
     "metadata": {},
     "output_type": "execute_result"
    }
   ],
   "source": [
    "\"helo\" in s"
   ]
  },
  {
   "cell_type": "code",
   "execution_count": null,
   "metadata": {},
   "outputs": [],
   "source": []
  }
 ],
 "metadata": {
  "kernelspec": {
   "display_name": "Python 3",
   "language": "python",
   "name": "python3"
  },
  "language_info": {
   "codemirror_mode": {
    "name": "ipython",
    "version": 3
   },
   "file_extension": ".py",
   "mimetype": "text/x-python",
   "name": "python",
   "nbconvert_exporter": "python",
   "pygments_lexer": "ipython3",
   "version": "3.11.5"
  }
 },
 "nbformat": 4,
 "nbformat_minor": 2
}
