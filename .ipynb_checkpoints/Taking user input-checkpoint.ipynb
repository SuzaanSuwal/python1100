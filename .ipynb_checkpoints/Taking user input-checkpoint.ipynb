{
 "cells": [
  {
   "cell_type": "code",
   "execution_count": 2,
   "id": "a230967d-5ede-451d-b0a1-ca2a03158458",
   "metadata": {},
   "outputs": [
    {
     "name": "stdout",
     "output_type": "stream",
     "text": [
      "Suzaan\n"
     ]
    }
   ],
   "source": [
    "name = \"Suzaan\"\n",
    "print(name)"
   ]
  },
  {
   "cell_type": "markdown",
   "id": "54f3665c-2677-409c-a6a9-e21e084c0906",
   "metadata": {},
   "source": []
  },
  {
   "cell_type": "code",
   "execution_count": null,
   "id": "9fb21449-d3df-4acc-8d84-c2cc358c3b56",
   "metadata": {},
   "outputs": [],
   "source": [
    "Name = input(\"Enter your name: \")\n",
    "lastname = input(\"Enter your last name: \")\n",
    "print(f\"Your fullname is :{Name} {lastname}\") "
   ]
  },
  {
   "cell_type": "code",
   "execution_count": 5,
   "id": "3fa10a86-e268-43db-9234-da06e831fdbe",
   "metadata": {},
   "outputs": [
    {
     "name": "stdin",
     "output_type": "stream",
     "text": [
      " Chimas\n"
     ]
    }
   ],
   "source": [
    "name = input()"
   ]
  },
  {
   "cell_type": "code",
   "execution_count": null,
   "id": "eefb1783-a772-4a77-b880-80a2963f954e",
   "metadata": {},
   "outputs": [],
   "source": []
  }
 ],
 "metadata": {
  "kernelspec": {
   "display_name": "Python 3 (ipykernel)",
   "language": "python",
   "name": "python3"
  },
  "language_info": {
   "codemirror_mode": {
    "name": "ipython",
    "version": 3
   },
   "file_extension": ".py",
   "mimetype": "text/x-python",
   "name": "python",
   "nbconvert_exporter": "python",
   "pygments_lexer": "ipython3",
   "version": "3.11.5"
  }
 },
 "nbformat": 4,
 "nbformat_minor": 5
}
