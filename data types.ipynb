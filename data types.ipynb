{
 "cells": [
  {
   "cell_type": "code",
   "execution_count": 2,
   "id": "35c560a3-efa7-442e-b887-e7b33b6ec732",
   "metadata": {},
   "outputs": [],
   "source": [
    "a, b, c = 2, 0.3, 0.5 + 6j"
   ]
  },
  {
   "cell_type": "code",
   "execution_count": 3,
   "id": "53153c9e-ba87-4102-b813-60f1dd1151b3",
   "metadata": {},
   "outputs": [
    {
     "data": {
      "text/plain": [
       "2"
      ]
     },
     "execution_count": 3,
     "metadata": {},
     "output_type": "execute_result"
    }
   ],
   "source": [
    "a"
   ]
  },
  {
   "cell_type": "code",
   "execution_count": 4,
   "id": "944220b1-bcc2-4cc5-808e-8282ee1a5d59",
   "metadata": {},
   "outputs": [
    {
     "data": {
      "text/plain": [
       "0.3"
      ]
     },
     "execution_count": 4,
     "metadata": {},
     "output_type": "execute_result"
    }
   ],
   "source": [
    "b"
   ]
  },
  {
   "cell_type": "code",
   "execution_count": 5,
   "id": "fe27a337-89f2-4551-940b-052250f71d02",
   "metadata": {},
   "outputs": [
    {
     "data": {
      "text/plain": [
       "(0.5+6j)"
      ]
     },
     "execution_count": 5,
     "metadata": {},
     "output_type": "execute_result"
    }
   ],
   "source": [
    "c"
   ]
  },
  {
   "cell_type": "markdown",
   "id": "03e04ad3-1c44-4e32-8643-3d414cccb472",
   "metadata": {},
   "source": [
    "# data type checking"
   ]
  },
  {
   "cell_type": "code",
   "execution_count": 6,
   "id": "7c782a5d-07bf-4b90-a773-f332dfaf6bf6",
   "metadata": {},
   "outputs": [
    {
     "data": {
      "text/plain": [
       "int"
      ]
     },
     "execution_count": 6,
     "metadata": {},
     "output_type": "execute_result"
    }
   ],
   "source": [
    "type(a)"
   ]
  },
  {
   "cell_type": "code",
   "execution_count": 7,
   "id": "1237dead-62a5-4fbf-acb0-bd808206ee32",
   "metadata": {},
   "outputs": [
    {
     "data": {
      "text/plain": [
       "float"
      ]
     },
     "execution_count": 7,
     "metadata": {},
     "output_type": "execute_result"
    }
   ],
   "source": [
    "type(b)"
   ]
  },
  {
   "cell_type": "code",
   "execution_count": 8,
   "id": "5ee506a3-093d-4826-8fa5-ec1f2b4f9258",
   "metadata": {},
   "outputs": [
    {
     "data": {
      "text/plain": [
       "complex"
      ]
     },
     "execution_count": 8,
     "metadata": {},
     "output_type": "execute_result"
    }
   ],
   "source": [
    "type(c)"
   ]
  },
  {
   "cell_type": "markdown",
   "id": "dcf0baf6-ca62-4a92-8e45-a8234697ff8d",
   "metadata": {},
   "source": [
    "name = 'chimas'\n",
    "type(name)"
   ]
  },
  {
   "cell_type": "code",
   "execution_count": 12,
   "id": "347d494c-df88-40c1-b894-aea0c28012a0",
   "metadata": {},
   "outputs": [
    {
     "data": {
      "text/plain": [
       "int"
      ]
     },
     "execution_count": 12,
     "metadata": {},
     "output_type": "execute_result"
    }
   ],
   "source": [
    "number = 9843\n",
    "type(number)"
   ]
  },
  {
   "cell_type": "code",
   "execution_count": 13,
   "id": "23b48949-c023-45ca-bade-0274aaa27a23",
   "metadata": {},
   "outputs": [
    {
     "data": {
      "text/plain": [
       "complex"
      ]
     },
     "execution_count": 13,
     "metadata": {},
     "output_type": "execute_result"
    }
   ],
   "source": [
    "var = 9823 + 32j\n",
    "type(var)"
   ]
  },
  {
   "cell_type": "markdown",
   "id": "5da325dc-6993-470b-abcc-d3987ed774fd",
   "metadata": {},
   "source": [
    "* list\n",
    "* tuple\n",
    "* set\n",
    "* dictionary\n",
    "are 4 built-in type in python"
   ]
  },
  {
   "cell_type": "code",
   "execution_count": null,
   "id": "752f582d-cb92-46da-9a99-62b9e34f5547",
   "metadata": {},
   "outputs": [],
   "source": [
    "# type validation"
   ]
  },
  {
   "cell_type": "code",
   "execution_count": null,
   "id": "52b7de3f",
   "metadata": {},
   "outputs": [],
   "source": [
    "a = 0.5"
   ]
  },
  {
   "cell_type": "markdown",
   "id": "7e4a29fb",
   "metadata": {},
   "source": []
  },
  {
   "cell_type": "code",
   "execution_count": 18,
   "id": "d8e8ea40",
   "metadata": {},
   "outputs": [
    {
     "data": {
      "text/plain": [
       "True"
      ]
     },
     "execution_count": 18,
     "metadata": {},
     "output_type": "execute_result"
    }
   ],
   "source": [
    "# I want to check if a is float or not\n",
    "isinstance(a, int)\n"
   ]
  },
  {
   "cell_type": "markdown",
   "id": "155eb48b-7820-4933-832e-82cff920c10d",
   "metadata": {},
   "source": [
    "isinstance(a, float)"
   ]
  },
  {
   "cell_type": "markdown",
   "id": "c64fd3a1-1684-46a7-885f-0832d1793130",
   "metadata": {},
   "source": [
    "# True and false are boolean in python"
   ]
  },
  {
   "cell_type": "code",
   "execution_count": 19,
   "id": "97d1f556-7a63-485c-9081-a7fa124bdddb",
   "metadata": {},
   "outputs": [
    {
     "data": {
      "text/plain": [
       "2"
      ]
     },
     "execution_count": 19,
     "metadata": {},
     "output_type": "execute_result"
    }
   ],
   "source": [
    "True + True"
   ]
  },
  {
   "cell_type": "code",
   "execution_count": 20,
   "id": "20a096fa-4b51-436e-98fb-cababa7bd196",
   "metadata": {},
   "outputs": [
    {
     "data": {
      "text/plain": [
       "1"
      ]
     },
     "execution_count": 20,
     "metadata": {},
     "output_type": "execute_result"
    }
   ],
   "source": [
    "True + False"
   ]
  },
  {
   "cell_type": "code",
   "execution_count": null,
   "id": "ba5b2b6d-8cea-4ace-8ee7-0d9d9f34d286",
   "metadata": {},
   "outputs": [],
   "source": []
  },
  {
   "cell_type": "code",
   "execution_count": null,
   "id": "5d49941f-7f0c-43bd-834c-86ceabff0394",
   "metadata": {},
   "outputs": [],
   "source": []
  }
 ],
 "metadata": {
  "kernelspec": {
   "display_name": "Python 3 (ipykernel)",
   "language": "python",
   "name": "python3"
  },
  "language_info": {
   "codemirror_mode": {
    "name": "ipython",
    "version": 3
   },
   "file_extension": ".py",
   "mimetype": "text/x-python",
   "name": "python",
   "nbconvert_exporter": "python",
   "pygments_lexer": "ipython3",
   "version": "3.11.5"
  }
 },
 "nbformat": 4,
 "nbformat_minor": 5
}
