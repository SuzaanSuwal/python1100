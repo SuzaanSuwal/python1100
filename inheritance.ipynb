{
 "cells": [
  {
   "cell_type": "code",
   "execution_count": 4,
   "metadata": {},
   "outputs": [],
   "source": [
    "class Parent:\n",
    "    eyes = \"Brown\" # class attribute\n",
    "    \n",
    "class Child:\n",
    "    hair = \"white\"\n",
    "    "
   ]
  },
  {
   "cell_type": "code",
   "execution_count": 11,
   "metadata": {},
   "outputs": [
    {
     "ename": "AttributeError",
     "evalue": "'Child' object has no attribute 'eyes'",
     "output_type": "error",
     "traceback": [
      "\u001b[1;31m---------------------------------------------------------------------------\u001b[0m",
      "\u001b[1;31mAttributeError\u001b[0m                            Traceback (most recent call last)",
      "Cell \u001b[1;32mIn[11], line 2\u001b[0m\n\u001b[0;32m      1\u001b[0m c1 \u001b[38;5;241m=\u001b[39m Child()\n\u001b[1;32m----> 2\u001b[0m \u001b[43mc1\u001b[49m\u001b[38;5;241;43m.\u001b[39;49m\u001b[43meyes\u001b[49m \u001b[38;5;66;03m# yo garna paudaina because eyes is an attribute\u001b[39;00m\n",
      "\u001b[1;31mAttributeError\u001b[0m: 'Child' object has no attribute 'eyes'"
     ]
    }
   ],
   "source": [
    "c1 = Child()\n",
    "c1.eyes # yo garna paudaina because eyes is an attribute"
   ]
  },
  {
   "cell_type": "markdown",
   "metadata": {},
   "source": [
    "# Single inheritance"
   ]
  },
  {
   "cell_type": "code",
   "execution_count": 13,
   "metadata": {},
   "outputs": [],
   "source": [
    "class Parent():\n",
    "    eyes = \"Brown\"\n",
    "\n",
    "class Child(Parent):  # step 1 pass Parent class as ann argument on Child class\n",
    "    hair = \"white\"\n",
    "    def __init__(self):\n",
    "        super().__init__()"
   ]
  },
  {
   "cell_type": "code",
   "execution_count": 14,
   "metadata": {},
   "outputs": [
    {
     "data": {
      "text/plain": [
       "'Brown'"
      ]
     },
     "execution_count": 14,
     "metadata": {},
     "output_type": "execute_result"
    }
   ],
   "source": [
    "c1 = Child()\n",
    "c1.eyes"
   ]
  },
  {
   "cell_type": "code",
   "execution_count": 15,
   "metadata": {},
   "outputs": [
    {
     "data": {
      "text/plain": [
       "'white'"
      ]
     },
     "execution_count": 15,
     "metadata": {},
     "output_type": "execute_result"
    }
   ],
   "source": [
    "c1.hair"
   ]
  },
  {
   "cell_type": "markdown",
   "metadata": {},
   "source": [
    "# another example"
   ]
  },
  {
   "cell_type": "code",
   "execution_count": 30,
   "metadata": {},
   "outputs": [],
   "source": [
    "class Computer:\n",
    "    def __init__(self, model):\n",
    "        self.model = model\n",
    "        \n",
    "    def show_model(self):\n",
    "        print(f\"Your model is {self.model}\")\n",
    "        \n",
    "class Mobile(Computer):     # step 1: \n",
    "    def __init__(self, has_flash, model):\n",
    "        self.has_flash = has_flash\n",
    "        super().__init__(model)      # Step 2:"
   ]
  },
  {
   "cell_type": "code",
   "execution_count": 36,
   "metadata": {},
   "outputs": [
    {
     "data": {
      "text/plain": [
       "'samsung'"
      ]
     },
     "execution_count": 36,
     "metadata": {},
     "output_type": "execute_result"
    }
   ],
   "source": [
    "model = input(\"Enter your model: \") \n",
    "m1 = Mobile(has_flash = True, model = model)\n",
    "m1.model"
   ]
  },
  {
   "cell_type": "code",
   "execution_count": 33,
   "metadata": {},
   "outputs": [
    {
     "name": "stdout",
     "output_type": "stream",
     "text": [
      "Your model is Samsung\n"
     ]
    }
   ],
   "source": [
    "m1.show_model()"
   ]
  },
  {
   "cell_type": "markdown",
   "metadata": {},
   "source": [
    "# Mutiple inheritance"
   ]
  },
  {
   "cell_type": "code",
   "execution_count": 39,
   "metadata": {},
   "outputs": [],
   "source": [
    "class Father:\n",
    "    father_name = \"Ram\"\n",
    "    \n",
    "class Mother:\n",
    "    mother_name = \"Sita\"\n",
    "    \n",
    "class Child(Father, Mother): # Step 1\n",
    "    child_name = \"luv-kush\"\n",
    "    def __init__(self):\n",
    "        Father.__init__(self) # step 2\n",
    "        Mother.__init__(self) # Step 2"
   ]
  },
  {
   "cell_type": "code",
   "execution_count": 44,
   "metadata": {},
   "outputs": [
    {
     "data": {
      "text/plain": [
       "'Ram'"
      ]
     },
     "execution_count": 44,
     "metadata": {},
     "output_type": "execute_result"
    }
   ],
   "source": [
    "c1 = Child()\n",
    "c1.father_name"
   ]
  },
  {
   "cell_type": "code",
   "execution_count": 45,
   "metadata": {},
   "outputs": [
    {
     "data": {
      "text/plain": [
       "'Sita'"
      ]
     },
     "execution_count": 45,
     "metadata": {},
     "output_type": "execute_result"
    }
   ],
   "source": [
    "c1.mother_name"
   ]
  },
  {
   "cell_type": "markdown",
   "metadata": {},
   "source": [
    "# multi-level"
   ]
  },
  {
   "cell_type": "code",
   "execution_count": 52,
   "metadata": {},
   "outputs": [],
   "source": [
    "class Grandfather:\n",
    "    g_name = \"Dasarath\"\n",
    "    \n",
    "class Father(Grandfather):\n",
    "    f_name = \"Ram\"\n",
    "    def __init__(self):\n",
    "        Grandfather.__init__(self)\n",
    "    \n",
    "class Child(Father):\n",
    "    c_name = \"luv-kush\"\n",
    "    def __init__(self):\n",
    "        Father.__init__(self)"
   ]
  },
  {
   "cell_type": "code",
   "execution_count": 53,
   "metadata": {},
   "outputs": [
    {
     "data": {
      "text/plain": [
       "'Dasarath'"
      ]
     },
     "execution_count": 53,
     "metadata": {},
     "output_type": "execute_result"
    }
   ],
   "source": [
    "c1 = Child()\n",
    "c1.g_name"
   ]
  },
  {
   "cell_type": "code",
   "execution_count": null,
   "metadata": {},
   "outputs": [],
   "source": []
  }
 ],
 "metadata": {
  "kernelspec": {
   "display_name": "Python 3",
   "language": "python",
   "name": "python3"
  },
  "language_info": {
   "codemirror_mode": {
    "name": "ipython",
    "version": 3
   },
   "file_extension": ".py",
   "mimetype": "text/x-python",
   "name": "python",
   "nbconvert_exporter": "python",
   "pygments_lexer": "ipython3",
   "version": "3.11.5"
  }
 },
 "nbformat": 4,
 "nbformat_minor": 2
}
