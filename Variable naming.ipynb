{
 "cells": [
  {
   "cell_type": "markdown",
   "id": "b0e13b93-c9be-4e72-ade1-d495479e79c3",
   "metadata": {},
   "source": [
    "a = 5"
   ]
  },
  {
   "cell_type": "code",
   "execution_count": null,
   "id": "9dcca2b0-f5d2-475f-acce-2677296fb0b7",
   "metadata": {},
   "outputs": [
    {
     "data": {
      "text/plain": [
       "'Ram'"
      ]
     },
     "execution_count": 3,
     "metadata": {},
     "output_type": "execute_result"
    }
   ],
   "source": [
    "name = 'Ram'\n",
    "name"
   ]
  },
  {
   "cell_type": "code",
   "execution_count": null,
   "id": "37bf0fd5-a35e-4e41-9c7d-c5d57f678037",
   "metadata": {},
   "outputs": [
    {
     "ename": "SyntaxError",
     "evalue": "invalid syntax (3329595725.py, line 1)",
     "output_type": "error",
     "traceback": [
      "\u001b[1;36m  Cell \u001b[1;32mIn[4], line 1\u001b[1;36m\u001b[0m\n\u001b[1;33m    first name = \"suzaan\"\u001b[0m\n\u001b[1;37m          ^\u001b[0m\n\u001b[1;31mSyntaxError\u001b[0m\u001b[1;31m:\u001b[0m invalid syntax\n"
     ]
    }
   ],
   "source": [
    "first name = \"suzaan\""
   ]
  },
  {
   "cell_type": "markdown",
   "id": "09cbc117-e859-4f65-b213-885711218748",
   "metadata": {},
   "source": [
    "# you cannot use spacebar in variable name"
   ]
  },
  {
   "cell_type": "code",
   "execution_count": null,
   "id": "d303b2c9-a882-4630-ad17-a126a91e7816",
   "metadata": {},
   "outputs": [],
   "source": [
    "firstname = \"suzaan\""
   ]
  },
  {
   "cell_type": "code",
   "execution_count": null,
   "id": "2bc29f2a-b8cf-44dc-ab7d-ad9ab73ab743",
   "metadata": {},
   "outputs": [],
   "source": [
    "first_name = \"suzaan\" # you can use underscore in variable name"
   ]
  },
  {
   "cell_type": "code",
   "execution_count": null,
   "id": "6247a4ce-4675-4554-b701-e35f1dea0ed4",
   "metadata": {},
   "outputs": [],
   "source": [
    "# the variable name and function name should be in sanke case in python"
   ]
  },
  {
   "cell_type": "code",
   "execution_count": null,
   "id": "f50a08f0-de8d-45b0-b76b-e7a89ace18c1",
   "metadata": {},
   "outputs": [],
   "source": [
    "# the class name should be in Pascalcase"
   ]
  },
  {
   "cell_type": "code",
   "execution_count": null,
   "id": "ad9581de-4109-49ae-bc23-0a3465a01f91",
   "metadata": {},
   "outputs": [],
   "source": [
    "# you can learn about this on pep-8 convention; code style guide "
   ]
  },
  {
   "cell_type": "markdown",
   "id": "a2cdb090-aa3e-48c6-947a-62133d22f9a0",
   "metadata": {},
   "source": [
    "[PEp 8- Style guide for python code](https://peps.python.org/pep-0008/)"
   ]
  },
  {
   "cell_type": "markdown",
   "id": "26a68a25",
   "metadata": {},
   "source": [
    "Keywords cannot be variable names"
   ]
  },
  {
   "cell_type": "code",
   "execution_count": 13,
   "id": "8b992868",
   "metadata": {},
   "outputs": [
    {
     "name": "stdout",
     "output_type": "stream",
     "text": [
      "\n",
      "Here is a list of the Python keywords.  Enter any keyword to get more help.\n",
      "\n",
      "False               class               from                or\n",
      "None                continue            global              pass\n",
      "True                def                 if                  raise\n",
      "and                 del                 import              return\n",
      "as                  elif                in                  try\n",
      "assert              else                is                  while\n",
      "async               except              lambda              with\n",
      "await               finally             nonlocal            yield\n",
      "break               for                 not                 \n",
      "\n"
     ]
    }
   ],
   "source": [
    "help('keywords')"
   ]
  },
  {
   "cell_type": "code",
   "execution_count": 15,
   "id": "ccbfceb0",
   "metadata": {},
   "outputs": [
    {
     "ename": "SyntaxError",
     "evalue": "cannot assign to False (543447851.py, line 1)",
     "output_type": "error",
     "traceback": [
      "\u001b[1;36m  Cell \u001b[1;32mIn[15], line 1\u001b[1;36m\u001b[0m\n\u001b[1;33m    False=0\u001b[0m\n\u001b[1;37m    ^\u001b[0m\n\u001b[1;31mSyntaxError\u001b[0m\u001b[1;31m:\u001b[0m cannot assign to False\n"
     ]
    }
   ],
   "source": [
    "False=0"
   ]
  },
  {
   "cell_type": "code",
   "execution_count": 16,
   "id": "a9276398-806c-42c0-ad16-ce9073d2ac15",
   "metadata": {},
   "outputs": [],
   "source": [
    "false = 0"
   ]
  },
  {
   "cell_type": "code",
   "execution_count": 17,
   "id": "261de0ec-8798-47d6-8ac4-03f7c0f08838",
   "metadata": {},
   "outputs": [],
   "source": [
    "# False is a keyword and false is not so we can use false as variable name --- case sensative"
   ]
  },
  {
   "cell_type": "markdown",
   "id": "16d064d5-d59c-40ca-82a1-0b3973fec7e3",
   "metadata": {},
   "source": [
    "# Python is case sensative language"
   ]
  },
  {
   "cell_type": "markdown",
   "id": "6ab81fa0-0894-4f71-bfa8-264194a132cb",
   "metadata": {},
   "source": [
    "A = 20\n",
    "a = 33\n"
   ]
  },
  {
   "cell_type": "markdown",
   "id": "6e02fbdf-cbd2-455f-9e2a-9c2006b8d667",
   "metadata": {},
   "source": [
    "# You cannot use special character in variable name "
   ]
  },
  {
   "cell_type": "code",
   "execution_count": 21,
   "id": "4d4da3f7-f836-4599-a2c6-6269cb529e9d",
   "metadata": {},
   "outputs": [
    {
     "ename": "SyntaxError",
     "evalue": "cannot assign to expression here. Maybe you meant '==' instead of '='? (160710468.py, line 1)",
     "output_type": "error",
     "traceback": [
      "\u001b[1;36m  Cell \u001b[1;32mIn[21], line 1\u001b[1;36m\u001b[0m\n\u001b[1;33m    first-name = \"Chimas\"\u001b[0m\n\u001b[1;37m    ^\u001b[0m\n\u001b[1;31mSyntaxError\u001b[0m\u001b[1;31m:\u001b[0m cannot assign to expression here. Maybe you meant '==' instead of '='?\n"
     ]
    }
   ],
   "source": [
    "first-name = \"Chimas\""
   ]
  },
  {
   "cell_type": "code",
   "execution_count": 22,
   "id": "099bfc81-46d6-4198-82ce-3c5d2776e2a7",
   "metadata": {},
   "outputs": [
    {
     "data": {
      "text/plain": [
       "'suzaanchimas'"
      ]
     },
     "execution_count": 22,
     "metadata": {},
     "output_type": "execute_result"
    }
   ],
   "source": [
    "first_name + \"chimas\""
   ]
  },
  {
   "cell_type": "code",
   "execution_count": 23,
   "id": "c8ca3632-880e-4c0a-a4b4-e748ce67e36e",
   "metadata": {},
   "outputs": [],
   "source": [
    "first_name = \"chimas\""
   ]
  },
  {
   "cell_type": "code",
   "execution_count": null,
   "id": "9d16e097-56f8-4bb2-8e61-da06d360502b",
   "metadata": {},
   "outputs": [],
   "source": []
  }
 ],
 "metadata": {
  "kernelspec": {
   "display_name": "Python 3 (ipykernel)",
   "language": "python",
   "name": "python3"
  },
  "language_info": {
   "codemirror_mode": {
    "name": "ipython",
    "version": 3
   },
   "file_extension": ".py",
   "mimetype": "text/x-python",
   "name": "python",
   "nbconvert_exporter": "python",
   "pygments_lexer": "ipython3",
   "version": "3.11.5"
  }
 },
 "nbformat": 4,
 "nbformat_minor": 5
}
