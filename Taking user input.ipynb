{
 "cells": [
  {
   "cell_type": "code",
   "execution_count": 2,
   "id": "a230967d-5ede-451d-b0a1-ca2a03158458",
   "metadata": {},
   "outputs": [
    {
     "name": "stdout",
     "output_type": "stream",
     "text": [
      "Suzaan\n"
     ]
    }
   ],
   "source": [
    "name = \"Suzaan\"\n",
    "print(name)"
   ]
  },
  {
   "cell_type": "markdown",
   "id": "54f3665c-2677-409c-a6a9-e21e084c0906",
   "metadata": {},
   "source": []
  },
  {
   "cell_type": "code",
   "execution_count": 15,
   "id": "9fb21449-d3df-4acc-8d84-c2cc358c3b56",
   "metadata": {},
   "outputs": [
    {
     "name": "stdin",
     "output_type": "stream",
     "text": [
      "Enter your firstname:  Suzaan\n",
      "Enter your last name:  Suwal\n"
     ]
    },
    {
     "name": "stdout",
     "output_type": "stream",
     "text": [
      "Your fullname is :Suzaan Suwal\n"
     ]
    }
   ],
   "source": [
    "Name = input(\"Enter your firstname: \")\n",
    "lastname = input(\"Enter your last name: \")\n",
    "print(f\"Your fullname is :{Name} {lastname}\") "
   ]
  },
  {
   "cell_type": "code",
   "execution_count": 5,
   "id": "3fa10a86-e268-43db-9234-da06e831fdbe",
   "metadata": {},
   "outputs": [
    {
     "name": "stdin",
     "output_type": "stream",
     "text": [
      " Chimas\n"
     ]
    }
   ],
   "source": [
    "name = input()"
   ]
  },
  {
   "cell_type": "code",
   "execution_count": 17,
   "id": "eefb1783-a772-4a77-b880-80a2963f954e",
   "metadata": {},
   "outputs": [
    {
     "name": "stdin",
     "output_type": "stream",
     "text": [
      "Enter a number:  436\n"
     ]
    },
    {
     "name": "stdout",
     "output_type": "stream",
     "text": [
      "<class 'str'>\n"
     ]
    }
   ],
   "source": [
    "num = input(\"Enter a number: \")\n",
    "print(type(num))\n"
   ]
  },
  {
   "cell_type": "code",
   "execution_count": 19,
   "id": "2682a8a4-f23d-4043-8e09-ecae0e558acd",
   "metadata": {},
   "outputs": [],
   "source": [
    "# input() method le by default input string ma dinxa"
   ]
  },
  {
   "cell_type": "markdown",
   "id": "e6921afd-44a1-4009-a3ea-fc304a51a8ac",
   "metadata": {},
   "source": [
    "# Data type casting\n",
    "explicit"
   ]
  },
  {
   "cell_type": "code",
   "execution_count": 23,
   "id": "c79cad07-8e3a-49bb-9e6e-862a4135b981",
   "metadata": {},
   "outputs": [
    {
     "name": "stdout",
     "output_type": "stream",
     "text": [
      "<class 'str'>\n",
      "<class 'int'>\n"
     ]
    }
   ],
   "source": [
    "num = \"23\"\n",
    "print(type(num)) #string thiyo\n",
    "num = int(num)\n",
    "print(type(num)) #integer vayo"
   ]
  },
  {
   "cell_type": "code",
   "execution_count": 24,
   "id": "42177472-48bb-4f0c-ac5d-2307eb920b7a",
   "metadata": {},
   "outputs": [
    {
     "name": "stdin",
     "output_type": "stream",
     "text": [
      "Enter a number:  232\n"
     ]
    },
    {
     "data": {
      "text/plain": [
       "int"
      ]
     },
     "execution_count": 24,
     "metadata": {},
     "output_type": "execute_result"
    }
   ],
   "source": [
    "num = int(input(\"Enter a number: \"))\n",
    "type(num)"
   ]
  },
  {
   "cell_type": "code",
   "execution_count": 26,
   "id": "6ee0fe8b-9187-4a99-9198-0eaf754ab8a7",
   "metadata": {},
   "outputs": [
    {
     "name": "stdin",
     "output_type": "stream",
     "text": [
      "Enter first number:  32\n",
      "Enter second number:  32\n"
     ]
    },
    {
     "name": "stdout",
     "output_type": "stream",
     "text": [
      "64\n"
     ]
    }
   ],
   "source": [
    "a = int(input(\"Enter first number: \"))\n",
    "b = int(input(\"Enter second number: \"))\n",
    "c = a + b\n",
    "print(c)"
   ]
  },
  {
   "cell_type": "markdown",
   "id": "eb956e68-16bf-4b67-857b-f66304c92135",
   "metadata": {},
   "source": [
    "# volume of sphere"
   ]
  },
  {
   "cell_type": "code",
   "execution_count": 31,
   "id": "2f7aff7a-b002-47d9-bfcb-e3bf8dc89c24",
   "metadata": {},
   "outputs": [
    {
     "ename": "SyntaxError",
     "evalue": "invalid syntax. Perhaps you forgot a comma? (1067549972.py, line 4)",
     "output_type": "error",
     "traceback": [
      "\u001b[1;36m  Cell \u001b[1;32mIn[31], line 4\u001b[1;36m\u001b[0m\n\u001b[1;33m    print(volume of sphere is : , volume)\u001b[0m\n\u001b[1;37m          ^\u001b[0m\n\u001b[1;31mSyntaxError\u001b[0m\u001b[1;31m:\u001b[0m invalid syntax. Perhaps you forgot a comma?\n"
     ]
    }
   ],
   "source": [
    "import math\n",
    "r = float(input(\"Enter Radius: \"))\n",
    "volume = 4/3 * math.pi * r**3 #volume of sphere\n",
    "print(volume of sphere is :  volume)\n"
   ]
  },
  {
   "cell_type": "code",
   "execution_count": null,
   "id": "ac8eb0de-0177-4d34-9ac3-a2910d2d56d6",
   "metadata": {},
   "outputs": [],
   "source": []
  }
 ],
 "metadata": {
  "kernelspec": {
   "display_name": "Python 3 (ipykernel)",
   "language": "python",
   "name": "python3"
  },
  "language_info": {
   "codemirror_mode": {
    "name": "ipython",
    "version": 3
   },
   "file_extension": ".py",
   "mimetype": "text/x-python",
   "name": "python",
   "nbconvert_exporter": "python",
   "pygments_lexer": "ipython3",
   "version": "3.11.5"
  }
 },
 "nbformat": 4,
 "nbformat_minor": 5
}
