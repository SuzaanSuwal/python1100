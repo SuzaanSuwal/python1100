{
 "cells": [
  {
   "cell_type": "markdown",
   "id": "e3698638-6ecd-4493-88f1-ce51b05a94f9",
   "metadata": {},
   "source": [
    "# f-string"
   ]
  },
  {
   "cell_type": "code",
   "execution_count": 1,
   "id": "130e9b9c-797f-4454-9bf3-5cba636e3222",
   "metadata": {},
   "outputs": [
    {
     "name": "stdout",
     "output_type": "stream",
     "text": [
      "I study python in Broadway\n"
     ]
    }
   ],
   "source": [
    "subject = \"python\"\n",
    "institute = 'Broadway'\n",
    "print(f\"I study {subject} in {institute}\")"
   ]
  },
  {
   "cell_type": "code",
   "execution_count": 2,
   "id": "8b98c6fc-1cba-4904-bc91-2ad08036f669",
   "metadata": {},
   "outputs": [
    {
     "name": "stdout",
     "output_type": "stream",
     "text": [
      "My name is Suzaan. I live in bhaktapur\n"
     ]
    }
   ],
   "source": [
    "name = \"Suzaan\"\n",
    "location =\"bhaktapur\"\n",
    "print(f\"My name is {name}. I live in {location}\")"
   ]
  },
  {
   "cell_type": "code",
   "execution_count": null,
   "id": "d5c56cf4-3c3d-4f1a-93ac-5492ffb5c190",
   "metadata": {},
   "outputs": [],
   "source": []
  }
 ],
 "metadata": {
  "kernelspec": {
   "display_name": "Python 3 (ipykernel)",
   "language": "python",
   "name": "python3"
  },
  "language_info": {
   "codemirror_mode": {
    "name": "ipython",
    "version": 3
   },
   "file_extension": ".py",
   "mimetype": "text/x-python",
   "name": "python",
   "nbconvert_exporter": "python",
   "pygments_lexer": "ipython3",
   "version": "3.11.5"
  }
 },
 "nbformat": 4,
 "nbformat_minor": 5
}
