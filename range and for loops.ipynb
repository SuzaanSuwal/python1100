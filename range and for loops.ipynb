{
 "cells": [
  {
   "cell_type": "markdown",
   "id": "abe6d2f6-2801-423f-ae4b-ad48b2be99f1",
   "metadata": {},
   "source": [
    "# rage(start, stop, step)"
   ]
  },
  {
   "cell_type": "code",
   "execution_count": null,
   "id": "b621611f-bc97-4db8-a80b-4d0c19c7ffbd",
   "metadata": {},
   "outputs": [
    {
     "data": {
      "text/plain": [
       "range(0, 11)"
      ]
     },
     "execution_count": 3,
     "metadata": {},
     "output_type": "execute_result"
    }
   ],
   "source": [
    "range(0, 11, 1) # 0 start ; 11 is stop; step is 1 ; step is default 1"
   ]
  },
  {
   "cell_type": "code",
   "execution_count": null,
   "id": "496c9699-a19e-4958-aff5-e1dd90258694",
   "metadata": {},
   "outputs": [
    {
     "name": "stdout",
     "output_type": "stream",
     "text": [
      "0\n",
      "1\n",
      "2\n",
      "3\n",
      "4\n"
     ]
    }
   ],
   "source": [
    "for index in range(0, 5):\n",
    "    print(index)"
   ]
  },
  {
   "cell_type": "code",
   "execution_count": null,
   "id": "98a8c229-bbcb-4d3e-a88a-9a24f2938d0f",
   "metadata": {},
   "outputs": [
    {
     "name": "stdout",
     "output_type": "stream",
     "text": [
      "10\n",
      "11\n",
      "12\n",
      "13\n",
      "14\n"
     ]
    }
   ],
   "source": [
    "for index in range(10, 15):\n",
    "    print(index)\n"
   ]
  },
  {
   "cell_type": "code",
   "execution_count": null,
   "id": "878228b6-82f3-4406-9075-1273547bb766",
   "metadata": {},
   "outputs": [
    {
     "name": "stdout",
     "output_type": "stream",
     "text": [
      "2\n",
      "4\n",
      "6\n",
      "8\n"
     ]
    }
   ],
   "source": [
    "for index in range(2, 10, 2): # printing even number from 1 to 10\n",
    "    print(index)"
   ]
  },
  {
   "cell_type": "code",
   "execution_count": null,
   "id": "a01078ec-cbe5-4e59-ae62-4ed1671c286a",
   "metadata": {},
   "outputs": [],
   "source": [
    "s = 'Hello world'"
   ]
  },
  {
   "cell_type": "code",
   "execution_count": null,
   "id": "f93f5189-eb3c-4ee7-9875-c00dca1bfe3a",
   "metadata": {},
   "outputs": [
    {
     "data": {
      "text/plain": [
       "'o'"
      ]
     },
     "execution_count": 14,
     "metadata": {},
     "output_type": "execute_result"
    }
   ],
   "source": [
    "index = 4\n",
    "s[index]"
   ]
  },
  {
   "cell_type": "code",
   "execution_count": null,
   "id": "4e767600-772c-4526-a336-cdab337403ad",
   "metadata": {},
   "outputs": [
    {
     "data": {
      "text/plain": [
       "'l'"
      ]
     },
     "execution_count": 13,
     "metadata": {},
     "output_type": "execute_result"
    }
   ],
   "source": [
    "s[2]"
   ]
  },
  {
   "cell_type": "code",
   "execution_count": null,
   "id": "a85967ae-0f4c-4985-a95f-9078e20a3889",
   "metadata": {},
   "outputs": [
    {
     "data": {
      "text/plain": [
       "'l'"
      ]
     },
     "execution_count": 15,
     "metadata": {},
     "output_type": "execute_result"
    }
   ],
   "source": [
    "index = 2\n",
    "letter = s[index]\n",
    "letter"
   ]
  },
  {
   "cell_type": "code",
   "execution_count": null,
   "id": "dd29623f-43d9-4863-9780-e5460cbc3920",
   "metadata": {},
   "outputs": [
    {
     "data": {
      "text/plain": [
       "11"
      ]
     },
     "execution_count": 16,
     "metadata": {},
     "output_type": "execute_result"
    }
   ],
   "source": [
    "s = 'Hello world'\n",
    "len(s)"
   ]
  },
  {
   "cell_type": "code",
   "execution_count": null,
   "id": "1810aa00-815c-482f-aef7-6dc344970abd",
   "metadata": {},
   "outputs": [
    {
     "data": {
      "text/plain": [
       "[0, 1, 2, 3, 4, 5, 6, 7, 8, 9, 10]"
      ]
     },
     "execution_count": 17,
     "metadata": {},
     "output_type": "execute_result"
    }
   ],
   "source": [
    "list(range(0, len(s)))"
   ]
  },
  {
   "cell_type": "code",
   "execution_count": null,
   "id": "df9de074-235a-43d5-b759-f16e8933fe95",
   "metadata": {},
   "outputs": [
    {
     "name": "stdout",
     "output_type": "stream",
     "text": [
      "Index = 0 and letter = H\n",
      "Index = 1 and letter = e\n",
      "Index = 2 and letter = l\n",
      "Index = 3 and letter = l\n",
      "Index = 4 and letter = o\n",
      "Index = 5 and letter =  \n",
      "Index = 6 and letter = w\n",
      "Index = 7 and letter = o\n",
      "Index = 8 and letter = r\n",
      "Index = 9 and letter = l\n",
      "Index = 10 and letter = d\n"
     ]
    }
   ],
   "source": [
    "for index in range(0, len(s)):\n",
    "    letter = s[index]\n",
    "    print(f\"Index = {index} and letter = {letter}\")"
   ]
  },
  {
   "cell_type": "code",
   "execution_count": null,
   "id": "7790bcc4-57cb-4f11-ae93-5fbed3164efb",
   "metadata": {},
   "outputs": [
    {
     "name": "stdout",
     "output_type": "stream",
     "text": [
      "0 c\n",
      "1 h\n",
      "2 i\n",
      "3 m\n",
      "4 a\n",
      "5 s\n"
     ]
    }
   ],
   "source": [
    "a = 'chimas'\n",
    "for index in range(0, len(a)):\n",
    "    letter = a[index]\n",
    "    print(index, letter)"
   ]
  },
  {
   "cell_type": "code",
   "execution_count": null,
   "id": "1a93ca84-a88f-440b-91e9-e18ca990089e",
   "metadata": {},
   "outputs": [
    {
     "name": "stdout",
     "output_type": "stream",
     "text": [
      "10\n",
      "9\n",
      "8\n",
      "7\n",
      "6\n"
     ]
    }
   ],
   "source": [
    "for index in range(10, 5, -1):\n",
    "    print(index)"
   ]
  },
  {
   "cell_type": "code",
   "execution_count": null,
   "id": "5ba146eb-f273-4be6-b7d8-7d65fce36cbf",
   "metadata": {},
   "outputs": [
    {
     "name": "stdout",
     "output_type": "stream",
     "text": [
      "5 s\n",
      "4 a\n",
      "3 m\n",
      "2 i\n",
      "1 h\n",
      "0 c\n"
     ]
    }
   ],
   "source": [
    "a = 'chimas'\n",
    "start = len(a) - 1\n",
    "stop = -1\n",
    "step = -1\n",
    "for index in range(start, stop, step):\n",
    "    letter = a[index]\n",
    "    print(index, letter)"
   ]
  },
  {
   "cell_type": "code",
   "execution_count": 1,
   "id": "da030db9-5ec1-4221-ab7e-40b6565e2dd2",
   "metadata": {},
   "outputs": [
    {
     "name": "stdout",
     "output_type": "stream",
     "text": [
      "The letter = c is consonant\n",
      "The letter = h is consonant\n",
      "The letter = i is vowel\n",
      "The letter = m is consonant\n",
      "The letter = a is vowel\n",
      "The letter = s is consonant\n"
     ]
    }
   ],
   "source": [
    "a = \"chimas\"\n",
    "for index in range(0, len(a)):\n",
    "    letter = a[index]\n",
    "    if letter == \"a\" or letter == \"e\" or letter == \"i\" or letter == \"o\" or letter == \"u\":\n",
    "        print(f\"The letter = {letter} is vowel\")\n",
    "    else:\n",
    "        print(f\"The letter = {letter} is consonant\")"
   ]
  },
  {
   "cell_type": "code",
   "execution_count": null,
   "id": "1b466390",
   "metadata": {},
   "outputs": [],
   "source": []
  }
 ],
 "metadata": {
  "kernelspec": {
   "display_name": "Python 3 (ipykernel)",
   "language": "python",
   "name": "python3"
  },
  "language_info": {
   "codemirror_mode": {
    "name": "ipython",
    "version": 3
   },
   "file_extension": ".py",
   "mimetype": "text/x-python",
   "name": "python",
   "nbconvert_exporter": "python",
   "pygments_lexer": "ipython3",
   "version": "3.11.5"
  }
 },
 "nbformat": 4,
 "nbformat_minor": 5
}
