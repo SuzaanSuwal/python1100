{
 "cells": [
  {
   "cell_type": "code",
   "execution_count": 4,
   "metadata": {},
   "outputs": [
    {
     "name": "stdout",
     "output_type": "stream",
     "text": [
      "string2 is a rotation of string1\n"
     ]
    }
   ],
   "source": [
    "string1 = \"NEPALINDIACHINA\"\n",
    "string2 = \"indiachinanepal\"\n",
    "string1 = string1.lower()\n",
    "string2 = string2.lower()\n",
    "\n",
    "if len(string1) != len(string2):\n",
    "    print(\"string2 is not a rotation of string1\")\n",
    "else:\n",
    "    temp_str = string1 + string1\n",
    "    if string2 in temp_str:\n",
    "        print(\"string2 is a rotation of string1\")\n",
    "    else:\n",
    "        print(\"string2 is not a rotation of string1\")"
   ]
  },
  {
   "cell_type": "code",
   "execution_count": null,
   "metadata": {},
   "outputs": [],
   "source": []
  }
 ],
 "metadata": {
  "kernelspec": {
   "display_name": "Python 3",
   "language": "python",
   "name": "python3"
  },
  "language_info": {
   "codemirror_mode": {
    "name": "ipython",
    "version": 3
   },
   "file_extension": ".py",
   "mimetype": "text/x-python",
   "name": "python",
   "nbconvert_exporter": "python",
   "pygments_lexer": "ipython3",
   "version": "3.11.5"
  }
 },
 "nbformat": 4,
 "nbformat_minor": 2
}
