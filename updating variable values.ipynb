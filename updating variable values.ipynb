{
 "cells": [
  {
   "cell_type": "code",
   "execution_count": 1,
   "id": "6086cf9f-28bb-4c52-9aa5-3a470edd628a",
   "metadata": {},
   "outputs": [
    {
     "name": "stdout",
     "output_type": "stream",
     "text": [
      "Horlicks\n"
     ]
    }
   ],
   "source": [
    "batta = \"Horlicks\"\n",
    "print(batta)"
   ]
  },
  {
   "cell_type": "code",
   "execution_count": 2,
   "id": "f31c3d09-7d4a-4ea9-88b9-19c8d02a7a58",
   "metadata": {},
   "outputs": [
    {
     "name": "stdout",
     "output_type": "stream",
     "text": [
      "gheu\n"
     ]
    }
   ],
   "source": [
    "batta = \"gheu\"\n",
    "print(batta)"
   ]
  },
  {
   "cell_type": "code",
   "execution_count": 3,
   "id": "5c135fad-fce9-4566-a79f-d57b967409f0",
   "metadata": {},
   "outputs": [
    {
     "data": {
      "text/plain": [
       "30"
      ]
     },
     "execution_count": 3,
     "metadata": {},
     "output_type": "execute_result"
    }
   ],
   "source": [
    "weight = 25\n",
    "weight = weight + 5\n",
    "weight"
   ]
  },
  {
   "cell_type": "markdown",
   "id": "e4162914-8f19-44b8-8f35-6c8d6230ff84",
   "metadata": {},
   "source": [
    "# Assigning Multple value to multiple variable"
   ]
  },
  {
   "cell_type": "code",
   "execution_count": 4,
   "id": "e0b8f904-d3b3-45bb-8090-d018129551c1",
   "metadata": {},
   "outputs": [],
   "source": [
    "a = 5\n",
    "b = 0.3\n",
    "c = 9 + 0.7j"
   ]
  },
  {
   "cell_type": "code",
   "execution_count": 5,
   "id": "5bbe8393-455b-48ee-90ce-70ff401c9fab",
   "metadata": {},
   "outputs": [],
   "source": [
    "a,b,c = 5, 0.3, 9 + 0.7j\n"
   ]
  },
  {
   "cell_type": "code",
   "execution_count": 6,
   "id": "abf4f162-5cd2-4adb-9f6f-3604fee0e9a6",
   "metadata": {},
   "outputs": [
    {
     "data": {
      "text/plain": [
       "5"
      ]
     },
     "execution_count": 6,
     "metadata": {},
     "output_type": "execute_result"
    }
   ],
   "source": [
    "a"
   ]
  },
  {
   "cell_type": "code",
   "execution_count": 7,
   "id": "3e26a60a-2be0-4026-b9d0-4f7afb11a00f",
   "metadata": {},
   "outputs": [
    {
     "data": {
      "text/plain": [
       "0.3"
      ]
     },
     "execution_count": 7,
     "metadata": {},
     "output_type": "execute_result"
    }
   ],
   "source": [
    "b"
   ]
  },
  {
   "cell_type": "code",
   "execution_count": 8,
   "id": "f1b893f3-4c9a-41bb-b45d-01d772942647",
   "metadata": {},
   "outputs": [
    {
     "data": {
      "text/plain": [
       "(9+0.7j)"
      ]
     },
     "execution_count": 8,
     "metadata": {},
     "output_type": "execute_result"
    }
   ],
   "source": [
    "c"
   ]
  },
  {
   "cell_type": "markdown",
   "id": "bd19def5-0e44-45a8-97bd-87359f6395be",
   "metadata": {},
   "source": [
    "# swap two numbers"
   ]
  },
  {
   "cell_type": "code",
   "execution_count": 9,
   "id": "d069c6df-7a11-40f1-b4a6-6b13a97cbf13",
   "metadata": {},
   "outputs": [],
   "source": [
    "a = 0.5\n",
    "b = 0.86"
   ]
  },
  {
   "cell_type": "code",
   "execution_count": 10,
   "id": "72da93b5-d9c2-47a8-ac08-cb176b2da02e",
   "metadata": {},
   "outputs": [],
   "source": [
    "a, b = b, a"
   ]
  },
  {
   "cell_type": "code",
   "execution_count": 11,
   "id": "f3d55938-833f-47d0-90b6-0156821c39f9",
   "metadata": {},
   "outputs": [
    {
     "data": {
      "text/plain": [
       "0.86"
      ]
     },
     "execution_count": 11,
     "metadata": {},
     "output_type": "execute_result"
    }
   ],
   "source": [
    "a"
   ]
  },
  {
   "cell_type": "code",
   "execution_count": 12,
   "id": "d1019589-7854-40b8-a47c-9138b0024c63",
   "metadata": {},
   "outputs": [
    {
     "data": {
      "text/plain": [
       "0.5"
      ]
     },
     "execution_count": 12,
     "metadata": {},
     "output_type": "execute_result"
    }
   ],
   "source": [
    "b"
   ]
  },
  {
   "cell_type": "code",
   "execution_count": null,
   "id": "b5ae7525-a3db-42fa-b386-3c8c9fbb987c",
   "metadata": {},
   "outputs": [],
   "source": []
  }
 ],
 "metadata": {
  "kernelspec": {
   "display_name": "Python 3 (ipykernel)",
   "language": "python",
   "name": "python3"
  },
  "language_info": {
   "codemirror_mode": {
    "name": "ipython",
    "version": 3
   },
   "file_extension": ".py",
   "mimetype": "text/x-python",
   "name": "python",
   "nbconvert_exporter": "python",
   "pygments_lexer": "ipython3",
   "version": "3.11.5"
  }
 },
 "nbformat": 4,
 "nbformat_minor": 5
}
